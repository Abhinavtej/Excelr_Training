{
  "nbformat": 4,
  "nbformat_minor": 0,
  "metadata": {
    "colab": {
      "provenance": [],
      "authorship_tag": "ABX9TyMP/f37HPAN/VHzyIOyPZWQ",
      "include_colab_link": true
    },
    "kernelspec": {
      "name": "python3",
      "display_name": "Python 3"
    },
    "language_info": {
      "name": "python"
    }
  },
  "cells": [
    {
      "cell_type": "markdown",
      "metadata": {
        "id": "view-in-github",
        "colab_type": "text"
      },
      "source": [
        "<a href=\"https://colab.research.google.com/github/Abhinavtej/Excelr_Training/blob/main/9th_January.ipynb\" target=\"_parent\"><img src=\"https://colab.research.google.com/assets/colab-badge.svg\" alt=\"Open In Colab\"/></a>"
      ]
    },
    {
      "cell_type": "code",
      "source": [
        "import csv\n",
        "\n",
        "def create_csv(filename, data):\n",
        "    with open(filename, 'w', newline='') as csvfile:\n",
        "        writer = csv.writer(csvfile)\n",
        "        writer.writerow(['Age', 'Salary', 'Purchased'])\n",
        "        writer.writerows(data)\n",
        "\n",
        "data = [\n",
        "    [19, 20000, 0],\n",
        "    [26, 19000, 0],\n",
        "    [32, 160000, 1],\n",
        "    [45, 55000, 1],\n",
        "    [28, 35000, 0],\n",
        "    [34, 70000, 1],\n",
        "    [40, 85000, 1],\n",
        "    [45, 25000, 0],\n",
        "    [38, 90000, 1],\n",
        "    [30, 45000, 0],\n",
        "    [27, 30000, 0],\n",
        "    [33, 65000, 1],\n",
        "    [50, 120000, 1],\n",
        "    [41, 74000, 0],\n",
        "    [20, 80000, 1],\n",
        "    [29, 39000, 0],\n",
        "    [36, 78000, 1],\n",
        "    [31, 55000, 0],\n",
        "    [48, 22000, 0],\n",
        "    [29, 39000, 0],\n",
        "    [36, 78000, 1],\n",
        "    [31, 55000, 0]\n",
        "]\n",
        "\n",
        "\n",
        "create_csv('customer_data.csv', data)\n",
        "print(\"CSV file 'customer_data.csv' created successfully.\")\n"
      ],
      "metadata": {
        "colab": {
          "base_uri": "https://localhost:8080/"
        },
        "id": "b6OlydjqddKf",
        "outputId": "63e95b01-de98-44d2-de3c-38d9608b29c1"
      },
      "execution_count": 93,
      "outputs": [
        {
          "output_type": "stream",
          "name": "stdout",
          "text": [
            "CSV file 'customer_data.csv' created successfully.\n"
          ]
        }
      ]
    },
    {
      "cell_type": "code",
      "source": [
        "import pandas as pd\n",
        "df = pd.read_csv('/content/customer_data.csv')\n",
        "print(df.head())"
      ],
      "metadata": {
        "colab": {
          "base_uri": "https://localhost:8080/"
        },
        "id": "6aCXyhaJer9b",
        "outputId": "d6ef78fe-38a2-42b6-8c29-c33f0ec896b7"
      },
      "execution_count": 94,
      "outputs": [
        {
          "output_type": "stream",
          "name": "stdout",
          "text": [
            "   Age  Salary  Purchased\n",
            "0   19   20000          0\n",
            "1   26   19000          0\n",
            "2   32  160000          1\n",
            "3   45   55000          1\n",
            "4   28   35000          0\n"
          ]
        }
      ]
    },
    {
      "cell_type": "code",
      "source": [
        "import matplotlib.pyplot as plt\n",
        "\n",
        "purchased = df[df['Purchased'] == 1]\n",
        "not_purchased = df[df['Purchased'] == 0]\n",
        "plt.figure(figsize=(5,4))\n",
        "plt.scatter(purchased['Age'], purchased['Purchased'], label='Purchased')\n",
        "plt.scatter(not_purchased['Age'], not_purchased['Purchased'], label='Not Purchased')\n",
        "plt.xlabel(\"Age\")\n",
        "plt.ylabel(\"Purchased\")\n",
        "plt.legend(loc='best')\n",
        "plt.title(\"Abhinav's Project\")\n",
        "plt.grid(True)\n",
        "plt.show()"
      ],
      "metadata": {
        "colab": {
          "base_uri": "https://localhost:8080/",
          "height": 410
        },
        "id": "b28wDIPHgfsu",
        "outputId": "4b82b663-d5e1-43af-baf4-665b4a90b5de"
      },
      "execution_count": 95,
      "outputs": [
        {
          "output_type": "display_data",
          "data": {
            "text/plain": [
              "<Figure size 500x400 with 1 Axes>"
            ],
            "image/png": "[encoded data removed]"
          },
          "metadata": {}
        }
      ]
    },
    {
      "cell_type": "code",
      "source": [
        "from sklearn.model_selection import train_test_split\n",
        "from sklearn.linear_model import LogisticRegression\n",
        "\n",
        "X = df[['Age']]\n",
        "y = df['Purchased']\n",
        "\n",
        "X_train, X_test, y_train, y_test = train_test_split(X, y, test_size=0.2, random_state=42)\n",
        "\n",
        "model = LogisticRegression()\n",
        "model.fit(X_train, y_train)\n",
        "\n",
        "new_age = [[59]]\n",
        "prediction = model.predict(new_age)\n",
        "probability = model.predict_proba(new_age)\n",
        "print(f\"Probability for Age {new_age[0][0]} : {'Will Purchase' if prediction[0] == 1 else 'Will not Purchase'}\")"
      ],
      "metadata": {
        "colab": {
          "base_uri": "https://localhost:8080/"
        },
        "id": "RRWJu4YYk2Xq",
        "outputId": "6631b666-e3f4-474f-8812-baf4e993c9f0"
      },
      "execution_count": 97,
      "outputs": [
        {
          "output_type": "stream",
          "name": "stdout",
          "text": [
            "Probability for Age 59 : Will Purchase\n"
          ]
        },
        {
          "output_type": "stream",
          "name": "stderr",
          "text": [
            "/usr/local/lib/python3.10/dist-packages/sklearn/utils/validation.py:2739: UserWarning: X does not have valid feature names, but LogisticRegression was fitted with feature names\n",
            "  warnings.warn(\n",
            "/usr/local/lib/python3.10/dist-packages/sklearn/utils/validation.py:2739: UserWarning: X does not have valid feature names, but LogisticRegression was fitted with feature names\n",
            "  warnings.warn(\n"
          ]
        }
      ]
    }
  ]
}