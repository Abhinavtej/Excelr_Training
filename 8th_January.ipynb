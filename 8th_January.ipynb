{
  "nbformat": 4,
  "nbformat_minor": 0,
  "metadata": {
    "colab": {
      "provenance": [],
      "authorship_tag": "ABX9TyNgy/UsnduvkvGBA/WcZRAR",
      "include_colab_link": true
    },
    "kernelspec": {
      "name": "python3",
      "display_name": "Python 3"
    },
    "language_info": {
      "name": "python"
    }
  },
  "cells": [
    {
      "cell_type": "markdown",
      "metadata": {
        "id": "view-in-github",
        "colab_type": "text"
      },
      "source": [
        "<a href=\"https://colab.research.google.com/github/Abhinavtej/Excelr_Training/blob/main/8th_January.ipynb\" target=\"_parent\"><img src=\"https://colab.research.google.com/assets/colab-badge.svg\" alt=\"Open In Colab\"/></a>"
      ]
    },
    {
      "cell_type": "code",
      "source": [
        "from sklearn.linear_model import LinearRegression\n",
        "from sklearn.model_selection import train_test_split\n",
        "\n",
        "years = [[2015], [2016], [2017], [2018], [2019], [2020]]\n",
        "values = [200, 220, 240, 260, 280, 300]\n",
        "\n",
        "years_train, years_test, values_train, values_test = train_test_split(years, values, test_size=0.2)\n",
        "\n",
        "model = LinearRegression()\n",
        "model.fit(years_train, values_train)\n",
        "\n",
        "future_year = [[2190]]\n",
        "predicted_value = model.predict(future_year)\n",
        "print(predicted_value)"
      ],
      "metadata": {
        "colab": {
          "base_uri": "https://localhost:8080/"
        },
        "id": "uxzURw0Mt2yl",
        "outputId": "0212fdb7-530d-4168-ec4b-3dc78cad5acb"
      },
      "execution_count": 5,
      "outputs": [
        {
          "output_type": "stream",
          "name": "stdout",
          "text": [
            "[3700.]\n"
          ]
        }
      ]
    },
    {
      "cell_type": "code",
      "source": [
        "import pyttsx3\n",
        "\n",
        "engine = pyttsx3.init()\n",
        "\n",
        "def speak(text):\n",
        "    engine.say(text)\n",
        "    engine.runAndWait()\n",
        "\n",
        "def main():\n",
        "    speak(\"Hello! Iam your simple bot from Malla Reddy University\")\n",
        "    speak(\"You can say hello, ask my name, or say goodbye\")\n",
        "\n",
        "    while True:\n",
        "        command = input(\"You: \").lower()\n",
        "\n",
        "        if \"hello\" in command:\n",
        "            speak(\"Hi there! Welcome to Malla Reddy University\")\n",
        "        elif \"what's your name\" in command or \"what is your name\" in command:\n",
        "            speak(\"I am a Simple Bot from Malla Reddy University\")\n",
        "        elif \"goodbye\" in command:\n",
        "            speak(\"Goodbye! Have a great day at Malla Reddy University!\")\n",
        "            break\n",
        "        else:\n",
        "            speak(\"I didn't understand that. please try again.\")\n",
        "\n",
        "\n",
        "if __name__ == \"__main__\":\n",
        "    main()"
      ],
      "metadata": {
        "id": "2SAWQj2K1RNq"
      },
      "execution_count": null,
      "outputs": []
    }
  ]
}