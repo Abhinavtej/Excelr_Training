{
  "nbformat": 4,
  "nbformat_minor": 0,
  "metadata": {
    "colab": {
      "provenance": [],
      "authorship_tag": "ABX9TyOYLapzO/cj6xx5f1J/J8QX",
      "include_colab_link": true
    },
    "kernelspec": {
      "name": "python3",
      "display_name": "Python 3"
    },
    "language_info": {
      "name": "python"
    }
  },
  "cells": [
    {
      "cell_type": "markdown",
      "metadata": {
        "id": "view-in-github",
        "colab_type": "text"
      },
      "source": [
        "<a href=\"https://colab.research.google.com/github/Abhinavtej/Excelr_Training/blob/main/3rd_January.ipynb\" target=\"_parent\"><img src=\"https://colab.research.google.com/assets/colab-badge.svg\" alt=\"Open In Colab\"/></a>"
      ]
    },
    {
      "cell_type": "code",
      "execution_count": null,
      "metadata": {
        "colab": {
          "base_uri": "https://localhost:8080/"
        },
        "id": "mhgoSKoy4TUV",
        "outputId": "89cba406-2c78-43b5-e5e7-e4819f1e4583"
      },
      "outputs": [
        {
          "output_type": "stream",
          "name": "stdout",
          "text": [
            "[1, 2, 3, 4, 5, 6]\n"
          ]
        }
      ],
      "source": [
        "list1 = [1,2,3]\n",
        "list2 = [4,5,6]\n",
        "list3 = list1 + list2\n",
        "print(list3)"
      ]
    },
    {
      "cell_type": "code",
      "source": [
        "print(list3[:1])\n",
        "print(list3[:])\n",
        "print(list3[1:])\n",
        "print(list3[1:3])\n",
        "print(list3[1:4])\n",
        "print(list3[2:3])"
      ],
      "metadata": {
        "colab": {
          "base_uri": "https://localhost:8080/"
        },
        "id": "hwKnNAHO7XrS",
        "outputId": "6083897e-2f3b-417e-96dd-6e714d933479"
      },
      "execution_count": null,
      "outputs": [
        {
          "output_type": "stream",
          "name": "stdout",
          "text": [
            "[1]\n",
            "[1, 2, 3, 4, 5, 6]\n",
            "[2, 3, 4, 5, 6]\n",
            "[2, 3]\n",
            "[2, 3, 4]\n",
            "[3]\n"
          ]
        }
      ]
    }
  ]
}