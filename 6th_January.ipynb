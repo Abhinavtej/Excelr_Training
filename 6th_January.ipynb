{
  "nbformat": 4,
  "nbformat_minor": 0,
  "metadata": {
    "colab": {
      "provenance": [],
      "authorship_tag": "ABX9TyNza2Y994phG61dkqTLNR5e",
      "include_colab_link": true
    },
    "kernelspec": {
      "name": "python3",
      "display_name": "Python 3"
    },
    "language_info": {
      "name": "python"
    }
  },
  "cells": [
    {
      "cell_type": "markdown",
      "metadata": {
        "id": "view-in-github",
        "colab_type": "text"
      },
      "source": [
        "<a href=\"https://colab.research.google.com/github/Abhinavtej/Excelr_Training/blob/main/6th_January.ipynb\" target=\"_parent\"><img src=\"https://colab.research.google.com/assets/colab-badge.svg\" alt=\"Open In Colab\"/></a>"
      ]
    },
    {
      "cell_type": "code",
      "execution_count": null,
      "metadata": {
        "colab": {
          "base_uri": "https://localhost:8080/"
        },
        "id": "RWXUH8yNFFDS",
        "outputId": "5dca5d11-677e-415b-8267-dc5510163ff1"
      },
      "outputs": [
        {
          "output_type": "stream",
          "name": "stdout",
          "text": [
            "Original Integer:  2\n"
          ]
        }
      ],
      "source": [
        "'''\n",
        "Basics of Python\n",
        "\n",
        "Int:\n",
        "\tBehavior: Fixed\n",
        "\tOrder: Ordered\n",
        "\tHomogeneity: Homogenous\n",
        "\tDefault Value: ‘0’\n",
        "'''\n",
        "a = 2\n",
        "print(\"Original Integer: \",a)"
      ]
    },
    {
      "cell_type": "code",
      "source": [
        "#Demo for list\n",
        "my_list = [1, 'hello', 3.14, True]\n",
        "print(\"Original List: \",my_list)\n",
        "\n",
        "#Adding an element to list\n",
        "my_list.append('world')\n",
        "print(\"After appending 'world': \",my_list)\n",
        "\n",
        "#Removing an element from list\n",
        "my_list.remove(3.14)\n",
        "print(\"After removing 'hello': \",my_list)"
      ],
      "metadata": {
        "colab": {
          "base_uri": "https://localhost:8080/"
        },
        "id": "XI-MVaJmF0zb",
        "outputId": "567511ce-288a-4c51-acfd-827651cab1ab"
      },
      "execution_count": null,
      "outputs": [
        {
          "output_type": "stream",
          "name": "stdout",
          "text": [
            "Original List:  [1, 'hello', 3.14, True]\n",
            "After appending 'world':  [1, 'hello', 3.14, True, 'world']\n",
            "After removing 'hello':  [1, 'hello', True, 'world']\n"
          ]
        }
      ]
    },
    {
      "cell_type": "code",
      "source": [
        "for i in range(1,6):\n",
        "  print(i)\n",
        "print()\n",
        "for i in range(0,6):\n",
        "  print(i)\n",
        "print()\n",
        "for i in range(6):\n",
        "  print(i)\n",
        "print()\n",
        "for _ in range(5):\n",
        "  print(1)"
      ],
      "metadata": {
        "colab": {
          "base_uri": "https://localhost:8080/"
        },
        "id": "MANVwpOhF3JF",
        "outputId": "cb7bf570-c569-4bda-c772-5383a0239a52"
      },
      "execution_count": null,
      "outputs": [
        {
          "output_type": "stream",
          "name": "stdout",
          "text": [
            "1\n",
            "2\n",
            "3\n",
            "4\n",
            "5\n",
            "\n",
            "0\n",
            "1\n",
            "2\n",
            "3\n",
            "4\n",
            "5\n",
            "\n",
            "0\n",
            "1\n",
            "2\n",
            "3\n",
            "4\n",
            "5\n",
            "\n",
            "1\n",
            "1\n",
            "1\n",
            "1\n",
            "1\n"
          ]
        }
      ]
    },
    {
      "cell_type": "code",
      "source": [
        "i = 1\n",
        "while i <= 5:\n",
        "  print(i)\n",
        "  i += 1\n",
        "print()\n",
        "i = 1\n",
        "while True:\n",
        "  if i > 10:\n",
        "    break\n",
        "  print(i)\n",
        "  i += 1\n",
        "print()"
      ],
      "metadata": {
        "colab": {
          "base_uri": "https://localhost:8080/"
        },
        "id": "qswbpk5RIdLT",
        "outputId": "4a191aa1-510c-4e6d-9998-91bf4613250b"
      },
      "execution_count": null,
      "outputs": [
        {
          "output_type": "stream",
          "name": "stdout",
          "text": [
            "1\n",
            "2\n",
            "3\n",
            "4\n",
            "5\n",
            "\n",
            "1\n",
            "2\n",
            "3\n",
            "4\n",
            "5\n",
            "6\n",
            "7\n",
            "8\n",
            "9\n",
            "10\n",
            "\n"
          ]
        }
      ]
    }
  ]
}