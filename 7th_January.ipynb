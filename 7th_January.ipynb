{
  "nbformat": 4,
  "nbformat_minor": 0,
  "metadata": {
    "colab": {
      "provenance": [],
      "authorship_tag": "ABX9TyNedmW56fe+orLPck54Hnxb",
      "include_colab_link": true
    },
    "kernelspec": {
      "name": "python3",
      "display_name": "Python 3"
    },
    "language_info": {
      "name": "python"
    }
  },
  "cells": [
    {
      "cell_type": "markdown",
      "metadata": {
        "id": "view-in-github",
        "colab_type": "text"
      },
      "source": [
        "<a href=\"https://colab.research.google.com/github/Abhinavtej/Excelr_Training/blob/main/7th_January.ipynb\" target=\"_parent\"><img src=\"https://colab.research.google.com/assets/colab-badge.svg\" alt=\"Open In Colab\"/></a>"
      ]
    },
    {
      "cell_type": "code",
      "execution_count": null,
      "metadata": {
        "colab": {
          "base_uri": "https://localhost:8080/"
        },
        "id": "SSidFkxT67Zy",
        "outputId": "bfccd162-0365-499b-c980-e02e6ce91aa8"
      },
      "outputs": [
        {
          "output_type": "stream",
          "name": "stdout",
          "text": [
            "['__add__', '__class__', '__contains__', '__delattr__', '__dir__', '__doc__', '__eq__', '__format__', '__ge__', '__getattribute__', '__getitem__', '__getnewargs__', '__gt__', '__hash__', '__init__', '__init_subclass__', '__iter__', '__le__', '__len__', '__lt__', '__mod__', '__mul__', '__ne__', '__new__', '__reduce__', '__reduce_ex__', '__repr__', '__rmod__', '__rmul__', '__setattr__', '__sizeof__', '__str__', '__subclasshook__', 'capitalize', 'casefold', 'center', 'count', 'encode', 'endswith', 'expandtabs', 'find', 'format', 'format_map', 'index', 'isalnum', 'isalpha', 'isascii', 'isdecimal', 'isdigit', 'isidentifier', 'islower', 'isnumeric', 'isprintable', 'isspace', 'istitle', 'isupper', 'join', 'ljust', 'lower', 'lstrip', 'maketrans', 'partition', 'removeprefix', 'removesuffix', 'replace', 'rfind', 'rindex', 'rjust', 'rpartition', 'rsplit', 'rstrip', 'split', 'splitlines', 'startswith', 'strip', 'swapcase', 'title', 'translate', 'upper', 'zfill']\n"
          ]
        }
      ],
      "source": [
        "print(dir(str))"
      ]
    },
    {
      "cell_type": "code",
      "source": [
        "a = \"HeLlo WoRld\"\n",
        "b = a.swapcase()\n",
        "c = b.title()\n",
        "d = c.replace('Hello', 'Welcome')\n",
        "print(a)\n",
        "print(b)\n",
        "print(c)\n",
        "print(d)"
      ],
      "metadata": {
        "colab": {
          "base_uri": "https://localhost:8080/"
        },
        "id": "5gpSgy_t7Foy",
        "outputId": "0ac88429-4bdb-4c03-cd8e-cb12625b55d3"
      },
      "execution_count": null,
      "outputs": [
        {
          "output_type": "stream",
          "name": "stdout",
          "text": [
            "HeLlo WoRld\n",
            "hElLO wOrLD\n",
            "Hello World\n",
            "Welcome World\n"
          ]
        }
      ]
    },
    {
      "cell_type": "code",
      "source": [
        "def greet(name):\n",
        "  print(f\"hello from function {name}\")\n",
        "greet(\"Abhinav\")"
      ],
      "metadata": {
        "colab": {
          "base_uri": "https://localhost:8080/"
        },
        "id": "WGlepZzH8KRK",
        "outputId": "9a893f24-e4b1-4c4b-8662-fc54506647dc"
      },
      "execution_count": null,
      "outputs": [
        {
          "output_type": "stream",
          "name": "stdout",
          "text": [
            "hello from function Abhinav\n"
          ]
        }
      ]
    },
    {
      "cell_type": "code",
      "source": [
        "'''\n",
        "Functions can be called independently where\n",
        "Methods need Objects to call\n",
        "\n",
        "Example for Function\n",
        "\n",
        "'''\n",
        "def greet(name):\n",
        "  print(f\"hello from function {name}\")\n",
        "greet(\"Abhinav\")\n",
        "\n",
        "a = \"HeLlo WoRld\"\n",
        "b = a.swapcase()\n",
        "c = b.title()\n",
        "d = c.replace('Hello', 'Welcome')\n",
        "print(a)\n",
        "print(b)\n",
        "print(c)\n",
        "print(d)\n",
        "print()"
      ],
      "metadata": {
        "colab": {
          "base_uri": "https://localhost:8080/"
        },
        "id": "-_ZAxLh78fBK",
        "outputId": "418cd870-b6b8-4e1b-b758-fbfaf41a46e2"
      },
      "execution_count": 2,
      "outputs": [
        {
          "output_type": "stream",
          "name": "stdout",
          "text": [
            "hello from function Abhinav\n",
            "HeLlo WoRld\n",
            "hElLO wOrLD\n",
            "Hello World\n",
            "Welcome World\n",
            "\n"
          ]
        }
      ]
    },
    {
      "cell_type": "code",
      "source": [
        "a = '1234'\n",
        "b = 'a1b2c3'\n",
        "c = a.isdigit()\n",
        "d = b.isalpha()\n",
        "print(c)\n",
        "print(d)"
      ],
      "metadata": {
        "colab": {
          "base_uri": "https://localhost:8080/"
        },
        "id": "L8Y82sf_842C",
        "outputId": "3ec69bc4-7024-4733-89a8-f0e29b3064c2"
      },
      "execution_count": null,
      "outputs": [
        {
          "output_type": "stream",
          "name": "stdout",
          "text": [
            "True\n",
            "False\n"
          ]
        }
      ]
    },
    {
      "cell_type": "code",
      "source": [
        "a = range(10)\n",
        "b = list(a)\n",
        "print(a)\n",
        "print(b)"
      ],
      "metadata": {
        "colab": {
          "base_uri": "https://localhost:8080/"
        },
        "id": "mCOjQgFs9KcN",
        "outputId": "28189005-1de8-4878-b2fd-93458fd93744"
      },
      "execution_count": null,
      "outputs": [
        {
          "output_type": "stream",
          "name": "stdout",
          "text": [
            "range(0, 10)\n",
            "[0, 1, 2, 3, 4, 5, 6, 7, 8, 9]\n"
          ]
        }
      ]
    },
    {
      "cell_type": "code",
      "source": [
        "#start, stop then steps\n",
        "a = range(1, 10, 2)\n",
        "b = list(a)\n",
        "print(a)\n",
        "print(b)"
      ],
      "metadata": {
        "colab": {
          "base_uri": "https://localhost:8080/"
        },
        "id": "1Z8Hk4A09Pzj",
        "outputId": "dd47cf91-0c2a-4085-8426-40c3d0ecca12"
      },
      "execution_count": null,
      "outputs": [
        {
          "output_type": "stream",
          "name": "stdout",
          "text": [
            "range(1, 10, 2)\n",
            "[1, 3, 5, 7, 9]\n"
          ]
        }
      ]
    },
    {
      "cell_type": "code",
      "source": [
        "def add(a, b):\n",
        "  return a + b\n",
        "print(add(1, 2))"
      ],
      "metadata": {
        "colab": {
          "base_uri": "https://localhost:8080/"
        },
        "id": "zykYvCMO-A1C",
        "outputId": "05d3eb65-0687-4acd-abca-7e753044638b"
      },
      "execution_count": null,
      "outputs": [
        {
          "output_type": "stream",
          "name": "stdout",
          "text": [
            "3\n"
          ]
        }
      ]
    },
    {
      "cell_type": "code",
      "source": [
        "def greet(name, greeting=\"Hello\"):\n",
        "  print(f\"{greeting} {name}!\")\n",
        "greet(\"Abhinav\")\n",
        "greet(\"Abhinav\", \"Bonjour\")"
      ],
      "metadata": {
        "colab": {
          "base_uri": "https://localhost:8080/"
        },
        "id": "1fOc60fcAHFk",
        "outputId": "f93a0ed2-fd2c-453c-a3a9-237209b58218"
      },
      "execution_count": null,
      "outputs": [
        {
          "output_type": "stream",
          "name": "stdout",
          "text": [
            "Hello Abhinav!\n",
            "Bonjour Abhinav!\n"
          ]
        }
      ]
    },
    {
      "cell_type": "code",
      "source": [
        "def calculate_sum(*args):\n",
        "  \"\"\"Calculates the sum of all the numbers passed as arguments.\n",
        "  Args:\n",
        "    *args: A variable number of numerical arguments.\n",
        "  \"\"\"\n",
        "  total = sum(args)\n",
        "  return total\n",
        "\n",
        "print(\"Sum of 1, 2, 3, 4, 5: \", calculate_sum(1, 2, 3, 4, 5))\n",
        "print(\"Sum of 1, 2, 3, 4, 5, 6, 7, 8, 9, 10: \", calculate_sum(1, 2, 3, 4, 5, 6, 7, 8, 9, 10))"
      ],
      "metadata": {
        "colab": {
          "base_uri": "https://localhost:8080/"
        },
        "id": "RJurR4zRAj9B",
        "outputId": "67612d43-8365-460a-e54f-40c80364ec48"
      },
      "execution_count": null,
      "outputs": [
        {
          "output_type": "stream",
          "name": "stdout",
          "text": [
            "Sum of 1, 2, 3, 4, 5:  15\n",
            "Sum of 1, 2, 3, 4, 5, 6, 7, 8, 9, 10:  55\n"
          ]
        }
      ]
    },
    {
      "cell_type": "code",
      "source": [
        "correct_username = 'admin'\n",
        "correct_password = '1234'\n",
        "\n",
        "while True:\n",
        "  username = input(\"Enter your username: \")\n",
        "  password = input(\"Enter your password: \")\n",
        "\n",
        "  if username == correct_username and password == correct_password:\n",
        "    print(\"Login successful!\")\n",
        "    break\n",
        "  else:\n",
        "    print(\"Invalid username or password. Please try again.\")"
      ],
      "metadata": {
        "colab": {
          "base_uri": "https://localhost:8080/"
        },
        "id": "ESY4leMYB_nF",
        "outputId": "0f03458d-4507-48c8-853e-4bb3847f18ce"
      },
      "execution_count": null,
      "outputs": [
        {
          "output_type": "stream",
          "name": "stdout",
          "text": [
            "Enter your username: Abhinav\n",
            "Enter your password: 0000\n",
            "Invalid username or password. Please try again.\n",
            "Enter your username: admin\n",
            "Enter your password: 123343\n",
            "Invalid username or password. Please try again.\n",
            "Enter your username: admin\n",
            "Enter your password: 1234\n",
            "Login successful!\n"
          ]
        }
      ]
    },
    {
      "cell_type": "code",
      "source": [
        "def calculate(a, b):\n",
        "  return add(a, b), sub(a, b), mul(a, b), div(a, b)\n",
        "\n",
        "def add(a, b):\n",
        "  return a + b\n",
        "\n",
        "def sub(a, b):\n",
        "  return a - b\n",
        "\n",
        "def mul(a, b):\n",
        "  return a * b\n",
        "\n",
        "def div(a, b):\n",
        "  return a / b\n",
        "\n",
        "data_list = list(calculate(10, 5))\n",
        "for data in data_list:\n",
        "  print(data)"
      ],
      "metadata": {
        "colab": {
          "base_uri": "https://localhost:8080/"
        },
        "id": "-SZT0RvUEmsX",
        "outputId": "f1abf35f-bd6b-441c-af03-8bcec349d78a"
      },
      "execution_count": null,
      "outputs": [
        {
          "output_type": "stream",
          "name": "stdout",
          "text": [
            "15\n",
            "5\n",
            "50\n",
            "2.0\n"
          ]
        }
      ]
    },
    {
      "cell_type": "code",
      "source": [
        "a = \"Abhinav\"\n",
        "b = \"tej Reddy\"\n",
        "c = \"\".join([a, b])\n",
        "print(c)"
      ],
      "metadata": {
        "colab": {
          "base_uri": "https://localhost:8080/"
        },
        "id": "CTbae17iFZhf",
        "outputId": "984ac9d2-2a62-44d8-84b1-24cdadb53011"
      },
      "execution_count": null,
      "outputs": [
        {
          "output_type": "stream",
          "name": "stdout",
          "text": [
            "Abhinavtej Reddy\n"
          ]
        }
      ]
    },
    {
      "cell_type": "code",
      "source": [
        "a = \"Hello, How are you\"\n",
        "b = a.split()\n",
        "print(b)"
      ],
      "metadata": {
        "colab": {
          "base_uri": "https://localhost:8080/"
        },
        "id": "a-mqlWhJFyZ7",
        "outputId": "22d059a6-b295-439f-a08e-0fce5d8d78bb"
      },
      "execution_count": null,
      "outputs": [
        {
          "output_type": "stream",
          "name": "stdout",
          "text": [
            "['Hello,', 'How', 'are', 'you']\n"
          ]
        }
      ]
    },
    {
      "cell_type": "code",
      "source": [
        "a = \"timex\"\n",
        "b = a.removesuffix(\"x\")\n",
        "c = a.removeprefix(\"ti\")\n",
        "print(b)\n",
        "print(c)"
      ],
      "metadata": {
        "colab": {
          "base_uri": "https://localhost:8080/"
        },
        "id": "_n_LJw2HF9ai",
        "outputId": "a9a5ff28-555b-4dc5-b62c-4d716843cf89"
      },
      "execution_count": null,
      "outputs": [
        {
          "output_type": "stream",
          "name": "stdout",
          "text": [
            "time\n",
            "mex\n"
          ]
        }
      ]
    }
  ]
}