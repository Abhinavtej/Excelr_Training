{
 "cells": [
  {
   "cell_type": "code",
   "execution_count": null,
   "id": "506788d3",
   "metadata": {},
   "outputs": [],
   "source": [
    "import pyttsx3\n",
    "import speech_recognition as sr\n",
    "\n",
    "engine = pyttsx3.init()\n",
    "\n",
    "def speak(text):\n",
    "    engine.say(text)\n",
    "    engine.runAndWait()\n",
    "\n",
    "def listen():\n",
    "    recognizer = sr.Recognizer()\n",
    "    with sr.Microphone() as source:\n",
    "        speak(\"I am Listening, Please Speak\")\n",
    "        try:\n",
    "            audio = recognizer.listen(source)\n",
    "            command = recognizer.recognize_google(audio)\n",
    "            return command.lower()\n",
    "        except sr.UnknownValueError:\n",
    "            speak(\"Sorry, I didn't catch that. Could you please repeat?\")\n",
    "            return \"\"\n",
    "\n",
    "def main():\n",
    "    speak(\"Hello! Iam your simple bot from Malla Reddy University. You can say hello, ask my name, or say goodbye\")\n",
    "\n",
    "    while True:\n",
    "        command = listen() #input(\"You: \").lower()\n",
    "        if \"hello\" in command:\n",
    "            speak(\"Hi there! Welcome to Malla Reddy University\")\n",
    "        elif \"what's your name\" in command or \"what is your name\" in command:\n",
    "            speak(\"I am a Simple Bot from Malla Reddy University\")\n",
    "        elif \"goodbye\" in command:\n",
    "            speak(\"Goodbye! Have a great day at Malla Reddy University!\")\n",
    "            break\n",
    "        else:\n",
    "            speak(\"I didn't understand that. please try again.\")\n",
    "\n",
    "\n",
    "if __name__ == \"__main__\":\n",
    "    main()"
   ]
  }
 ],
 "metadata": {
  "kernelspec": {
   "display_name": "Python 3 (ipykernel)",
   "language": "python",
   "name": "python3"
  },
  "language_info": {
   "codemirror_mode": {
    "name": "ipython",
    "version": 3
   },
   "file_extension": ".py",
   "mimetype": "text/x-python",
   "name": "python",
   "nbconvert_exporter": "python",
   "pygments_lexer": "ipython3",
   "version": "3.11.5"
  }
 },
 "nbformat": 4,
 "nbformat_minor": 5
}
